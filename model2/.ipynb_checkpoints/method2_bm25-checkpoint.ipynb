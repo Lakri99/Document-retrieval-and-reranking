{
 "cells": [
  {
   "cell_type": "code",
   "execution_count": 76,
   "metadata": {},
   "outputs": [],
   "source": [
    "import re\n",
    "import json\n",
    "import string\n",
    "from gensim.summarization.bm25  import BM25\n",
    "from collections import OrderedDict\n",
    "# from ../my_app/method1.py import Mertic\n",
    "from bs4 import BeautifulSoup\n",
    "# from rank_bm25 import BM25L, BM25Plus, BM25Okapi"
   ]
  },
  {
   "cell_type": "code",
   "execution_count": 1,
   "metadata": {},
   "outputs": [],
   "source": [
    "bm25 = [0.08, 0.04, 0.72, 0.0, 0.06, 0.02, 0.08, 0.02, 0.04, 0.02, 0.02, 0.0, 0.22, 0.12, 0.18, 0.02, 0.22, 0.14, 0.2, 0.02, 0.0, 0.0, 0.08, 0.54, 0.1, 0.02, 0.0, 0.18, 0.04, 0.04, 0.08, 0.02, 0.16, 0.06, 0.06, 0.22, 0.14, 0.1, 0.48, 0.12, 0.28, 0.56, 0.04, 0.02, 0.04, 0.06, 0.04, 0.28, 0.06, 0.06, 0.28, 0.02, 0.08, 0.0, 0.1, 0.0, 0.12, 0.2, 0.18, 0.06, 0.02, 0.18, 0.0, 0.02, 0.28, 0.02, 0.06, 0.04, 0.06, 0.0, 0.04, 0.06, 0.28, 0.12, 0.08, 0.32, 0.02, 0.26, 0.04, 0.04, 0.06, 0.08, 0.04, 0.28, 0.5, 0.04, 0.1, 0.06, 0.02, 0.28, 0.1, 0.04, 0.04, 0.02, 0.02, 0.02, 0.0, 0.0, 0.2, 0.14]\n",
    "tfidf = [0.039, 0.002, 0.467, 0.0, 0.005, 0.001, 0.013, 0.003, 0.05, 0.001, 0.001, 0.002, 0.148, 0.101, 0.157, 0.001, 0.328, 0.026, 0.01, 0.003, 0.004, 0.0, 0.041, 0.255, 0.014, 0.001, 0.0, 0.023, 0.002, 0.003, 0.014, 0.004, 0.036, 0.003, 0.003, 0.167, 0.058, 0.026, 0.038, 0.011, 0.033, 0.038, 0.002, 0.001, 0.013, 0.003, 0.005, 0.022, 0.007, 0.008, 0.037, 0.009, 0.004, 0.001, 0.109, 0.0, 0.021, 0.01, 0.011, 0.005, 0.001, 0.065, 0.0, 0.001, 0.199, 0.001, 0.007, 0.002, 0.011, 0.007, 0.009, 0.049, 0.055, 0.014, 0.004, 0.18, 0.006, 0.139, 0.002, 0.002, 0.019, 0.005, 0.003, 0.187, 0.036, 0.002, 0.006, 0.004, 0.001, 0.019, 0.013, 0.011, 0.002, 0.001, 0.004, 0.001, 0.0, 0.0, 0.012, 0.011]"
   ]
  },
  {
   "cell_type": "code",
   "execution_count": 2,
   "metadata": {},
   "outputs": [
    {
     "ename": "ModuleNotFoundError",
     "evalue": "No module named 'matplotlib'",
     "output_type": "error",
     "traceback": [
      "\u001b[0;31m---------------------------------------------------------------------------\u001b[0m",
      "\u001b[0;31mModuleNotFoundError\u001b[0m                       Traceback (most recent call last)",
      "\u001b[0;32m<ipython-input-2-a0d2faabd9e9>\u001b[0m in \u001b[0;36m<module>\u001b[0;34m\u001b[0m\n\u001b[0;32m----> 1\u001b[0;31m \u001b[0;32mimport\u001b[0m \u001b[0mmatplotlib\u001b[0m\u001b[0;34m.\u001b[0m\u001b[0mpyplot\u001b[0m \u001b[0;32mas\u001b[0m \u001b[0mplt\u001b[0m\u001b[0;34m\u001b[0m\u001b[0;34m\u001b[0m\u001b[0m\n\u001b[0m",
      "\u001b[0;31mModuleNotFoundError\u001b[0m: No module named 'matplotlib'"
     ]
    }
   ],
   "source": [
    "import matplotlib.pyplot as plt"
   ]
  },
  {
   "cell_type": "code",
   "execution_count": null,
   "metadata": {},
   "outputs": [],
   "source": []
  },
  {
   "cell_type": "code",
   "execution_count": null,
   "metadata": {},
   "outputs": [],
   "source": []
  },
  {
   "cell_type": "code",
   "execution_count": null,
   "metadata": {},
   "outputs": [],
   "source": []
  },
  {
   "cell_type": "code",
   "execution_count": null,
   "metadata": {},
   "outputs": [],
   "source": []
  },
  {
   "cell_type": "code",
   "execution_count": null,
   "metadata": {},
   "outputs": [],
   "source": []
  },
  {
   "cell_type": "code",
   "execution_count": null,
   "metadata": {},
   "outputs": [],
   "source": []
  },
  {
   "cell_type": "code",
   "execution_count": 4,
   "metadata": {},
   "outputs": [],
   "source": [
    "with open('../my_app/tf.json', 'r+') as f:\n",
    "    doc_dict = json.load(f)\n",
    "f.close()"
   ]
  },
  {
   "cell_type": "code",
   "execution_count": 5,
   "metadata": {},
   "outputs": [],
   "source": [
    "def preprocess(text):\n",
    "    text = text.lower().translate(str.maketrans('', '', string.punctuation)).split(\" \")\n",
    "    return text"
   ]
  },
  {
   "cell_type": "code",
   "execution_count": 6,
   "metadata": {},
   "outputs": [],
   "source": [
    "doc_text = OrderedDict()\n",
    "index = 1\n",
    "for docid, docdetail in doc_dict.items():\n",
    "    doctext = preprocess(\" \".join(docdetail.get(\"text\",\"\")))\n",
    "    doc_text[docid] = doctext"
   ]
  },
  {
   "cell_type": "code",
   "execution_count": 12,
   "metadata": {},
   "outputs": [],
   "source": [
    "query_text = 'Who is the author of the book, \"The Iron Lady: A Biography of Margaret Thatcher\"?'\n",
    "query = preprocess(query_text)"
   ]
  },
  {
   "cell_type": "code",
   "execution_count": 77,
   "metadata": {},
   "outputs": [],
   "source": [
    "bm25 = BM25(doc_text.values())"
   ]
  },
  {
   "cell_type": "code",
   "execution_count": 8,
   "metadata": {},
   "outputs": [],
   "source": [
    "with open('../ranking.json','r+') as file_1:\n",
    "    ranking_dict = json.load(file_1)\n",
    "file_1.close()"
   ]
  },
  {
   "cell_type": "code",
   "execution_count": 64,
   "metadata": {},
   "outputs": [],
   "source": [
    "def top_1000_doc_dict(doc_dict_copy, qid, ranking_dict):\n",
    "    key_list = ranking_dict.get(str(qid))\n",
    "    for docid in doc_dict_copy.copy().keys():\n",
    "        if docid not in key_list:\n",
    "            doc_dict_copy.pop(docid)\n",
    "    return doc_dict_copy"
   ]
  },
  {
   "cell_type": "code",
   "execution_count": 42,
   "metadata": {},
   "outputs": [],
   "source": [
    "def get_id_from_index(score_list, top_1000_doc_dict):\n",
    "    doc_sim = {}\n",
    "    for index, key in enumerate(top_1000_doc_dict.keys()):\n",
    "        doc_sim[key] = score_list[index]\n",
    "    return doc_sim"
   ]
  },
  {
   "cell_type": "code",
   "execution_count": 78,
   "metadata": {
    "tags": []
   },
   "outputs": [
    {
     "name": "stdout",
     "output_type": "stream",
     "text": [
      "4 50\n",
      " Who is the author of the book, \"The Iron Lady: A Biography of Margaret Thatcher\"? 0.08\n",
      "2 50\n",
      " What was the monetary value of the Nobel Peace Prize in 1989? 0.04\n",
      "36 50\n",
      " What does the Peugeot company manufacture? 0.72\n",
      "0 50\n",
      " How much did Mercury spend on advertising in 1993? 0.0\n",
      "3 50\n",
      " What is the name of the managing director of Apricot Computer? 0.06\n",
      "1 50\n",
      " Why did David Koresh ask the FBI for a word processor? 0.02\n",
      "4 50\n",
      " What debts did Qintex group leave? 0.08\n",
      "1 50\n",
      " What is the name of the rare neurological disease with symptoms such as: involuntary movements (tics), swearing, and incoherent vocalizations (grunts, shouts, etc.)? 0.02\n",
      "2 50\n",
      " How far is Yaroslavl from Moscow? 0.04\n",
      "1 50\n",
      " Name the designer of the shoe that spawned millions of plastic imitations, known as \"jellies\". 0.02\n",
      "1 50\n",
      " Who was President Cleveland's wife? 0.02\n",
      "0 50\n",
      " How much did Manchester United spend on players in 1993? 0.0\n",
      "11 50\n",
      " How much could you rent a Volkswagen bug for in 1966? 0.22\n",
      "6 50\n",
      " What country is the biggest producer of tungsten? 0.12\n",
      "9 50\n",
      " When was London's Docklands Light Railway constructed? 0.18\n",
      "1 50\n",
      " What two US biochemists won the Nobel Prize in medicine in 1992? 0.02\n",
      "11 50\n",
      " How long did the Charles Manson murder trial last? 0.22\n",
      "7 50\n",
      " Who was the first Taiwanese President? 0.14\n",
      "10 50\n",
      " Who was the leader of the Branch Davidian Cult confronted by the FBI in Waco, Texas in 1993? 0.2\n",
      "1 50\n",
      " Where is Inoco based? 0.02\n",
      "0 50\n",
      " Who was the first American in space? 0.0\n",
      "0 50\n",
      " When did the Jurassic Period end? 0.0\n",
      "4 50\n",
      " When did Spain and Korea start ambassadorial relations? 0.08\n",
      "27 50\n",
      " When did Nixon visit China? 0.54\n",
      "5 50\n",
      " Who was the lead actress in the movie \"Sleepless in Seattle\"? 0.1\n",
      "1 50\n",
      " What is the name of the \"female\" counterpart to El Nino, which results in cooling temperatures and very dry weather? 0.02\n",
      "0 50\n",
      " Where did the 6th annual meeting of Indonesia-Malaysia forest experts take place? 0.0\n",
      "9 50\n",
      " Who may be best known for breaking the color line in baseball? 0.18\n",
      "2 50\n",
      " What is the brightest star visible from Earth? 0.04\n",
      "2 50\n",
      " What are the Valdez Principles? 0.04\n",
      "4 50\n",
      " Where was Ulysses S. Grant born? 0.08\n",
      "1 50\n",
      " Who received the Will Rogers Award in 1989? 0.02\n",
      "8 50\n",
      " What is the largest city in Germany? 0.16\n",
      "3 50\n",
      " Where is the actress, Marion Davies, buried? 0.06\n",
      "3 50\n",
      " What is the name of the highest mountain in Africa? 0.06\n",
      "11 50\n",
      " In 1990, what day of the week did Christmas fall on? 0.22\n",
      "7 50\n",
      " What was the name of the US helicopter pilot shot down over North Korea? 0.14\n",
      "5 50\n",
      " Where was George Washington born? 0.1\n",
      "24 50\n",
      " Who was chosen to be the first black chairman of the military Joint Chiefs of Staff? 0.48\n",
      "6 50\n",
      " Who won the Nobel Peace Prize in 1991? 0.12\n",
      "14 50\n",
      " What is the legal blood alcohol limit for the state of California? 0.28\n",
      "28 50\n",
      " What was the target rate for M3 growth in 1992? 0.56\n",
      "2 50\n",
      " What costume designer decided that Michael Jackson should only wear one glove? 0.04\n",
      "1 50\n",
      " Who is the director of the international group called the Human Genome Organization (HUGO) that is trying to coordinate gene-mapping research worldwide? 0.02\n",
      "2 50\n",
      " When did Lucelly Garcia, a former ambassador of Columbia to Honduras, die? 0.04\n",
      "3 50\n",
      " Who is the mayor of Marbella? 0.06\n",
      "2 50\n",
      " What company is the largest Japanese ship builder? 0.04\n",
      "14 50\n",
      " Where is the massive North Korean nuclear complex located? 0.28\n",
      "3 50\n",
      " Who fired Maria Ybarra from her position in San Diego council? 0.06\n",
      "3 50\n",
      " When was Dubai's first concrete house built? 0.06\n",
      "14 50\n",
      " Who is the president of Stanford University? 0.28\n",
      "1 50\n",
      " Who invented the road traffic cone? 0.02\n",
      "4 50\n",
      " Who was the first doctor to successfully transplant a liver? 0.08\n",
      "0 50\n",
      " When did Nixon die? 0.0\n",
      "5 50\n",
      " Where is Microsoft's corporate headquarters located? 0.1\n",
      "0 50\n",
      " How many calories are there in a Big Mac? 0.0\n",
      "6 50\n",
      " What is the acronym for the rating system for air conditioner efficiency? 0.12\n",
      "10 50\n",
      " Name a film that has won the Golden Bear in the Berlin Film Festival? 0.2\n",
      "9 50\n",
      " Who was President of Costa Rica in 1994? 0.18\n",
      "3 50\n",
      " What is the fare cost for the round trip between New York and London on Concorde? 0.06\n",
      "1 50\n",
      " What brand of white rum is still made in Cuba? 0.02\n",
      "9 50\n",
      " What is the name of the chronic neurological autoimmune disease which attacks the protein sheath that surrounds nerve cells causing a gradual loss of movement in the body? 0.18\n",
      "0 50\n",
      " What nuclear-powered Russian submarine sank in the Norwegian Sea on April 7, 1989? 0.0\n",
      "1 50\n",
      " Who is the voice of Miss Piggy? 0.02\n",
      "14 50\n",
      " Name a country that is developing a magnetic levitation railway system? 0.28\n",
      "1 50\n",
      " Name the first private citizen to fly in space. 0.02\n",
      "3 50\n",
      " What is the longest river in the United States? 0.06\n",
      "2 50\n",
      " What does El Nino mean in spanish? 0.04\n",
      "3 50\n",
      " Who came up with the name, El Nino?  0.06\n",
      "0 50\n",
      " How many lives were lost in the China Airlines' crash in Nagoya, Japan? 0.0\n",
      "2 50\n",
      " In what year did Joe DiMaggio compile his 56-game hitting streak? 0.04\n",
      "3 50\n",
      " When did the original Howdy Doody show go off the air? 0.06\n",
      "14 50\n",
      " Where is the Taj Mahal? 0.28\n",
      "6 50\n",
      " Who leads the star ship Enterprise in Star Trek? 0.12\n",
      "4 50\n",
      " What cancer is commonly associated with AIDS? 0.08\n",
      "16 50\n",
      " In which year was New Zealand excluded from the ANZUS alliance? 0.32\n",
      "1 50\n",
      " Who played the part of the Godfather in the movie, \"The Godfather\"?  0.02\n",
      "13 50\n",
      " Which large U.S. city had the highest murder rate for 1988? 0.26\n",
      "2 50\n",
      " What did Shostakovich write for Rostropovich? 0.04\n",
      "2 50\n",
      " What is the name of the promising anticancer compound derived from the pacific yew tree? 0.04\n",
      "3 50\n",
      " How many inhabitants live in the town of Ushuaia? 0.06\n",
      "4 50\n",
      " How many consecutive baseball games did Lou Gehrig play? 0.08\n",
      "2 50\n",
      " What is the tallest building in Japan? 0.04\n",
      "14 50\n",
      " Which country is Australia's largest export market? 0.28\n",
      "25 50\n",
      " Which former Ku Klux Klan member won an elected office in the U.S.? 0.5\n",
      "2 50\n",
      " Who won two gold medals in skiing in the Olympic Games in Calgary? 0.04\n",
      "5 50\n",
      " Who followed Willy Brandt as chancellor of the Federal Republic of Germany? 0.1\n",
      "3 50\n",
      " What is Grenada's main commodity export? 0.06\n",
      "1 50\n",
      " At what age did Rossini stop writing opera? 0.02\n",
      "14 50\n",
      " Who is the founder of Scientology? 0.28\n",
      "5 50\n",
      " Which city in China has the largest number of foreign financial companies? 0.1\n",
      "2 50\n",
      " Who released the Internet worm in the late 1980s? 0.04\n",
      "2 50\n",
      " Who first circumnavigated the globe? 0.04\n",
      "1 50\n",
      " Who wrote the song, \"Stardust\"? 0.02\n",
      "1 50\n",
      " What country is the worlds leading supplier of cannabis? 0.02\n",
      "1 50\n",
      " What time of day did Emperor Hirohito die? 0.02\n",
      "0 50\n",
      " How large is the Arctic refuge to preserve unique wildlife and wilderness value on Alaska's north coast? 0.0\n",
      "0 50\n",
      " Where is the highest point in Japan? 0.0\n",
      "10 50\n",
      " What is the term for the sum of all genetic material in a given organism? 0.2\n",
      "7 50\n",
      " What is considered the costliest disaster the insurance industry has ever faced? 0.14\n",
      "Mean precision is  0.11119999999999988\n"
     ]
    }
   ],
   "source": [
    "# doc_sim = {}\n",
    "mean_precision = []\n",
    "for q_details in get_query_list():\n",
    "    query = preprocess(q_details.get(\"query\",\"\"))\n",
    "    top_1000 = top_1000_doc_dict(doc_text.copy(), q_details.get(\"index\"), ranking_dict)\n",
    "    \n",
    "    \n",
    "    bm25 = BM25(top_1000.values())\n",
    "    \n",
    "\n",
    "    score_list = bm25.get_scores(query)\n",
    "    doc_sim = get_id_from_index(score_list, top_1000)\n",
    "    \n",
    "    \n",
    "    pred = sorted(doc_sim, key=doc_sim.get, reverse=True)[:50]\n",
    "    precision = check_relevance(q_details, pred, doc_dict, pattern)\n",
    "    print(q_details.get(\"query\"), precision)\n",
    "    mean_precision.append(precision)\n",
    "    break\n",
    "print(\"Mean precision is \", str(sum(mean_precision)/len(mean_precision)))"
   ]
  },
  {
   "cell_type": "code",
   "execution_count": 25,
   "metadata": {},
   "outputs": [],
   "source": [
    "top_50 = sorted(doc_sim, key=doc_sim.get, reverse=True)[:50]"
   ]
  },
  {
   "cell_type": "code",
   "execution_count": 27,
   "metadata": {
    "tags": []
   },
   "outputs": [
    {
     "name": "stdout",
     "output_type": "stream",
     "text": [
      "3\n"
     ]
    }
   ],
   "source": [
    "pred = top_50\n",
    "precision = check_relevance({\n",
    "    \"index\":'1',\n",
    "    \"text\": query_text\n",
    "}, pred, doc_dict, pattern)"
   ]
  },
  {
   "cell_type": "code",
   "execution_count": 10,
   "metadata": {},
   "outputs": [],
   "source": [
    "pattern = {}\n",
    "with open(\"../patterns.txt\") as f:\n",
    "    for line in f:\n",
    "        line = line.split()\n",
    "        # print(pattern.get(line[0],None))\n",
    "        if pattern.get(line[0],None):\n",
    "            pattern.get(line[0]).append(line[1])\n",
    "        else:\n",
    "            pattern[line[0]] = [line[1]]"
   ]
  },
  {
   "cell_type": "code",
   "execution_count": 59,
   "metadata": {},
   "outputs": [],
   "source": [
    "def check_relevance(query_detail, pred, doc_dict, pattern):\n",
    "    doc = set()\n",
    "    for docid in pred:\n",
    "        text = \" \".join(doc_dict.get(docid).get(\"text\"))\n",
    "        p = pattern.get(str(query_detail.get(\"index\")))\n",
    "        for regex in p:\n",
    "            regex = re.compile(regex)\n",
    "            matches = regex.findall(text)\n",
    "            if len(matches) > 0:\n",
    "                doc.add(docid)\n",
    "    print(len(doc), len(pred))\n",
    "    return len(doc)/len(pred)"
   ]
  },
  {
   "cell_type": "code",
   "execution_count": 12,
   "metadata": {},
   "outputs": [],
   "source": [
    "def get_query_list():\n",
    "    file = open('../test_questions.txt','rt',encoding='utf8')\n",
    "    xml_doc = file.read()\n",
    "    soup = BeautifulSoup(xml_doc, 'lxml')\n",
    "    qlist = []\n",
    "    index = 0\n",
    "    for ques in soup.findAll('top'):\n",
    "        data = ques.find('desc').text\n",
    "        data = data.replace(\"Description:\\n\", \"\").rstrip(\"\\n\")\n",
    "        index += 1\n",
    "        qlist.append({\"index\": index,\n",
    "                    \"query\": data})\n",
    "    return qlist"
   ]
  },
  {
   "cell_type": "code",
   "execution_count": 63,
   "metadata": {},
   "outputs": [
    {
     "data": {
      "text/plain": [
       "1000"
      ]
     },
     "execution_count": 63,
     "metadata": {},
     "output_type": "execute_result"
    }
   ],
   "source": [
    "len(ranking_dict['1'])"
   ]
  },
  {
   "cell_type": "code",
   "execution_count": null,
   "metadata": {},
   "outputs": [],
   "source": []
  }
 ],
 "metadata": {
  "kernelspec": {
   "display_name": "Python 3",
   "language": "python",
   "name": "python3"
  },
  "language_info": {
   "codemirror_mode": {
    "name": "ipython",
    "version": 3
   },
   "file_extension": ".py",
   "mimetype": "text/x-python",
   "name": "python",
   "nbconvert_exporter": "python",
   "pygments_lexer": "ipython3",
   "version": "3.7.7"
  }
 },
 "nbformat": 4,
 "nbformat_minor": 2
}
