{
 "cells": [
  {
   "cell_type": "code",
   "execution_count": 1,
   "metadata": {},
   "outputs": [],
   "source": [
    "from bs4 import BeautifulSoup\n",
    "import string\n",
    "from collections import Counter\n",
    "from math import log10, sqrt\n",
    "import json\n",
    "import re"
   ]
  },
  {
   "cell_type": "code",
   "execution_count": 2,
   "metadata": {},
   "outputs": [],
   "source": [
    "file = open('../trec_documents.xml','rt',encoding='utf8')\n",
    "xml_doc = file.read()\n",
    "soup = BeautifulSoup(xml_doc, 'lxml')\n"
   ]
  },
  {
   "cell_type": "code",
   "execution_count": 49,
   "metadata": {
    "tags": []
   },
   "outputs": [],
   "source": [
    "def get_doc_dict(xml_soup):\n",
    "    \"\"\"\n",
    "    returns dict of dic number as key with  text from <p>, <text> and <headline> tag as text\n",
    "    \"\"\"\n",
    "    doc_dict = {}\n",
    "    for doc in soup.find_all('doc'):\n",
    "        text = \"\"\n",
    "        doc_no = str(doc.find('docno').string)\n",
    "        for para in doc.find_all('p'):\n",
    "            text += str(para.string).strip(\"\\n\")\n",
    "        for headline in doc.find_all('headline'):\n",
    "            text += str(headline.string)\n",
    "        for txt in doc.find_all('text'):\n",
    "            text += str(txt.string)\n",
    "        text = [t for t in text.split(\"\\n\") if t != '']\n",
    "        doc_dict[doc_no] = {\"text\":text}\n",
    "    return doc_dict\n",
    "doc_dict = get_doc_dict(soup)\n",
    "# print(doc_dict)"
   ]
  },
  {
   "cell_type": "code",
   "execution_count": 5,
   "metadata": {
    "tags": []
   },
   "outputs": [
    {
     "output_type": "stream",
     "name": "stdout",
     "text": "{'text': ['FT  14 MAY 91 / World News in Brief: Newspaper pays up', 'A Malaysian English-language newspaper agreed to pay former Singapore prime', 'minister Lee Kuan Yew Dollars 100,000 over allegations of corruption.'], 'tf': Counter({'newspaper': 1.0, 'ft': 0.5, '14': 0.5, 'may': 0.5, '91': 0.5, 'world': 0.5, 'news': 0.5, 'in': 0.5, 'brief': 0.5, 'pays': 0.5, 'up': 0.5, 'a': 0.5, 'malaysian': 0.5, 'englishlanguage': 0.5, 'agreed': 0.5, 'to': 0.5, 'pay': 0.5, 'former': 0.5, 'singapore': 0.5, 'prime': 0.5, 'minister': 0.5, 'lee': 0.5, 'kuan': 0.5, 'yew': 0.5, 'dollars': 0.5, '100000': 0.5, 'over': 0.5, 'allegations': 0.5, 'of': 0.5, 'corruption': 0.5})}\n"
    }
   ],
   "source": [
    "def get_doc_tf(doc_dict):\n",
    "    \"\"\"\n",
    "    updates the document dict with tf values\n",
    "    \"\"\"\n",
    "    idf_dict = {}\n",
    "    for doc_no, doc_details in doc_dict.copy().items():\n",
    "        text = doc_details.get(\"text\")\n",
    "        text = \" \".join(text).lower().translate(str.maketrans('', '', string.punctuation))\n",
    "        word_list = text.split(\" \")\n",
    "        tf = Counter(word_list)\n",
    "        tf.pop('', None)\n",
    "        tf_max = tf.get(tf.most_common(1)[0][0])\n",
    "        for k,v in tf.copy().items():\n",
    "            tf[k] = tf[k] / tf_max\n",
    "            idf_dict[k] = idf_dict.get(k,0) + 1\n",
    "        # tf = {k: v / tf_max for k, v in tf.copy().items()}\n",
    "        doc_details[\"tf\"] = tf\n",
    "        doc_dict[doc_no] = doc_details\n",
    "    idf_N = len(doc_dict)\n",
    "    idf_dict = {k: log10(idf_N/v) for k, v in idf_dict.copy().items()}\n",
    "    return idf_dict\n",
    "\n",
    "idf_dict = get_doc_tf(doc_dict)\n",
    "print(doc_dict[\"FT911-5\"])\n",
    "\n",
    "\n"
   ]
  },
  {
   "cell_type": "code",
   "execution_count": 20,
   "metadata": {},
   "outputs": [],
   "source": [
    "def get_q_tf(word_list):\n",
    "    tf = Counter(word_list)\n",
    "    tf_max = tf.most_common(1)[0][1]\n",
    "    for k,v in tf.copy().items():\n",
    "        tf[k] = tf[k] / tf_max\n",
    "    # tf[\"q_len\"] = len(word_list)\n",
    "    return tf\n",
    "# get_q_tf(query)"
   ]
  },
  {
   "cell_type": "code",
   "execution_count": 21,
   "metadata": {
    "tags": []
   },
   "outputs": [],
   "source": [
    "# SAve to json file\n",
    "with open('./tf.json', 'w+') as fp:\n",
    "    json.dump(doc_dict, fp)\n",
    "fp.close()\n",
    "with open('./idf.json', 'w+') as fp:\n",
    "    json.dump(idf_dict, fp)\n",
    "fp.close()"
   ]
  },
  {
   "cell_type": "code",
   "execution_count": 22,
   "metadata": {},
   "outputs": [],
   "source": [
    "def get_q_tfidf(q_tf, idf_dict):\n",
    "    tfidf = []\n",
    "    for word, tf in q_tf.items():\n",
    "        tfidf.append(tf * idf_dict.get(word, 0))\n",
    "    return tfidf\n"
   ]
  },
  {
   "cell_type": "code",
   "execution_count": 23,
   "metadata": {},
   "outputs": [],
   "source": [
    "def get_cosine(v1, v2, den_v2):\n",
    "    num=0\n",
    "    den_v1 = 0\n",
    "    for val1, val2 in zip(v1, v2):\n",
    "        num += val1*val2\n",
    "        den_v1 += val1*val1\n",
    "    den = sqrt(den_v1) * sqrt(den_v2)\n",
    "    return num/den"
   ]
  },
  {
   "cell_type": "code",
   "execution_count": 38,
   "metadata": {},
   "outputs": [],
   "source": [
    "def get_doc_dict_q(tf_dict, idf_dict, q_tf, q_tfidf):\n",
    "    doc_q_dict = {}\n",
    "    for docid, val in tf_dict.items():\n",
    "        tfidf = []\n",
    "        for word in q_tf.keys():\n",
    "            tf = val.get(\"tf\", {}).get(word, 0) \n",
    "            idf = idf_dict.get(word, 0)\n",
    "            tfidf.append(tf*idf)\n",
    "        den = sum([val*val*idf_dict.get(word,0)*idf_dict.get(word,0) for word, val in val.get(\"tf\").items()])\n",
    "        cosine = get_cosine(tfidf, q_tfidf, den) if sum(tfidf) > 0 and sum(q_tfidf) > 0 else 0\n",
    "        doc_q_dict[docid] = cosine\n",
    "    return doc_q_dict"
   ]
  },
  {
   "cell_type": "code",
   "execution_count": 39,
   "metadata": {
    "tags": []
   },
   "outputs": [],
   "source": [
    "pattern = {}\n",
    "with open(\"../patterns.txt\") as f:\n",
    "    for line in f:\n",
    "        line = line.split()\n",
    "        # print(pattern.get(line[0],None))\n",
    "        if pattern.get(line[0],None):\n",
    "            pattern.get(line[0]).append(line[1])\n",
    "        else:\n",
    "            pattern[line[0]] = [line[1]]"
   ]
  },
  {
   "cell_type": "code",
   "execution_count": 40,
   "metadata": {
    "tags": []
   },
   "outputs": [],
   "source": [
    "# checking with the query\n",
    "# q = ['What is the tallest building in Japan?']\n",
    "def top_50_baseline(query, doc_dict, idf_dict):\n",
    "    # for query in q:\n",
    "    query = query.lower().translate(str.maketrans('', '', string.punctuation)).split(\" \")\n",
    "    q_tf = get_q_tf(query)\n",
    "    q_tfidf = get_q_tfidf(q_tf, idf_dict)\n",
    "    # print(q_tfidf)\n",
    "    # get doc dictionary of query words\n",
    "    doc_q_dict = get_doc_dict_q(doc_dict, idf_dict, q_tf, q_tfidf)\n",
    "    top_50 = sorted(doc_q_dict, key=doc_q_dict.get, reverse=True)[:50]\n",
    "    return top_50\n",
    "\n",
    "# top_50_baseline(q, doc_dict, idf_dict)"
   ]
  },
  {
   "cell_type": "code",
   "execution_count": 41,
   "metadata": {},
   "outputs": [],
   "source": [
    "def get_relevant_from_regex(regex, doc_dict):\n",
    "        regex = re.compile(regex)\n",
    "        doc = set()\n",
    "        for docID, val in doc_dict.items():\n",
    "            matches = regex.findall(\" \".join(val.get(\"text\")))\n",
    "            if len(matches) > 0:\n",
    "                doc.add(docID)\n",
    "        return doc\n"
   ]
  },
  {
   "cell_type": "code",
   "execution_count": 42,
   "metadata": {},
   "outputs": [],
   "source": [
    "def get_relevant_doc(pattern, doc_dict):            \n",
    "    rel_doc_q = {}\n",
    "    for query, regex_list in pattern.items():\n",
    "        for regex in regex_list:\n",
    "                rel_doc_q[query] = get_relevant_from_regex(regex, doc_dict)\n",
    "    return rel_doc_q\n"
   ]
  },
  {
   "cell_type": "code",
   "execution_count": 43,
   "metadata": {},
   "outputs": [],
   "source": [
    "def check_relevance(query_detail, pred, doc_dict, pattern):\n",
    "    doc = set()\n",
    "    for docid in pred:\n",
    "        text = \" \".join(doc_dict.get(docid).get(\"text\"))\n",
    "        p = pattern.get(str(query_detail.get(\"index\")))\n",
    "        for regex in p:\n",
    "            regex = re.compile(regex)\n",
    "            matches = regex.findall(text)\n",
    "            if len(matches) > 0:\n",
    "                doc.add(docid)\n",
    "    print(len(doc))\n",
    "    return len(doc)/len(pred)"
   ]
  },
  {
   "cell_type": "code",
   "execution_count": 44,
   "metadata": {},
   "outputs": [],
   "source": [
    "def calculate_precision(pred, actual):\n",
    "    counter = 0\n",
    "    for value in pred:\n",
    "        if value in actual:\n",
    "            counter += 1\n",
    "            print(counter)\n",
    "    return counter/len(pred)"
   ]
  },
  {
   "cell_type": "code",
   "execution_count": 45,
   "metadata": {},
   "outputs": [],
   "source": [
    "def get_query_list():\n",
    "    file = open('../test_questions.txt','rt',encoding='utf8')\n",
    "    xml_doc = file.read()\n",
    "    soup = BeautifulSoup(xml_doc, 'lxml')\n",
    "    qlist = []\n",
    "    index = 0\n",
    "    for ques in soup.findAll('top'):\n",
    "        data = ques.find('desc').text\n",
    "        data = data.replace(\"Description:\\n\", \"\").rstrip(\"\\n\")\n",
    "        index += 1\n",
    "        qlist.append({\"index\": index,\n",
    "                    \"query\": data})\n",
    "    return qlist"
   ]
  },
  {
   "cell_type": "code",
   "execution_count": 3,
   "metadata": {
    "tags": []
   },
   "outputs": [
    {
     "output_type": "error",
     "ename": "NameError",
     "evalue": "name 'get_query_list' is not defined",
     "traceback": [
      "\u001b[0;31m---------------------------------------------------------------------------\u001b[0m",
      "\u001b[0;31mNameError\u001b[0m                                 Traceback (most recent call last)",
      "\u001b[0;32m<ipython-input-3-858c0e9105f8>\u001b[0m in \u001b[0;36m<module>\u001b[0;34m\u001b[0m\n\u001b[0;32m----> 1\u001b[0;31m \u001b[0mquery\u001b[0m \u001b[0;34m=\u001b[0m \u001b[0mget_query_list\u001b[0m\u001b[0;34m(\u001b[0m\u001b[0;34m)\u001b[0m\u001b[0;34m\u001b[0m\u001b[0;34m\u001b[0m\u001b[0m\n\u001b[0m\u001b[1;32m      2\u001b[0m \u001b[0;31m# rel_doc = get_relevant_doc(pattern, doc_dict)\u001b[0m\u001b[0;34m\u001b[0m\u001b[0;34m\u001b[0m\u001b[0;34m\u001b[0m\u001b[0m\n\u001b[1;32m      3\u001b[0m \u001b[0mmean_precision\u001b[0m \u001b[0;34m=\u001b[0m \u001b[0;34m[\u001b[0m\u001b[0;34m]\u001b[0m\u001b[0;34m\u001b[0m\u001b[0;34m\u001b[0m\u001b[0m\n\u001b[1;32m      4\u001b[0m \u001b[0;32mfor\u001b[0m \u001b[0mq_details\u001b[0m \u001b[0;32min\u001b[0m \u001b[0mquery\u001b[0m\u001b[0;34m:\u001b[0m\u001b[0;34m\u001b[0m\u001b[0;34m\u001b[0m\u001b[0m\n\u001b[1;32m      5\u001b[0m     \u001b[0mprint\u001b[0m\u001b[0;34m(\u001b[0m\u001b[0mq_details\u001b[0m\u001b[0;34m.\u001b[0m\u001b[0mget\u001b[0m\u001b[0;34m(\u001b[0m\u001b[0;34m\"query\"\u001b[0m\u001b[0;34m,\u001b[0m\u001b[0;34m\"\"\u001b[0m\u001b[0;34m)\u001b[0m\u001b[0;34m)\u001b[0m\u001b[0;34m\u001b[0m\u001b[0;34m\u001b[0m\u001b[0m\n",
      "\u001b[0;31mNameError\u001b[0m: name 'get_query_list' is not defined"
     ]
    }
   ],
   "source": [
    "query = get_query_list()\n",
    "# rel_doc = get_relevant_doc(pattern, doc_dict) \n",
    "mean_precision = []\n",
    "for q_details in query:\n",
    "    print(q_details.get(\"query\",\"\"))\n",
    "    pred = top_50_baseline(q_details.get(\"query\",\"\"), doc_dict, idf_dict)\n",
    "    print(pred)\n",
    "    precision = check_relevance(q_details, pred, doc_dict, pattern)\n",
    "    # print(q_details)\n",
    "    # actual = rel_doc.get(str(q_details.get(\"index\")))\n",
    "    # print(pred, actual)\n",
    "    # precision = calculate_precision(pred, actual) if pred and actual else 0\n",
    "    # print(q_details.get(\"query\"), precision)\n",
    "    mean_precision.append(precision)\n",
    "    break\n",
    "print(\"Mean precision is \", str(sum(mean_precision)/len(mean_precision)))\n"
   ]
  },
  {
   "cell_type": "code",
   "execution_count": 50,
   "metadata": {
    "tags": [
     "outputPrepend"
    ]
   },
   "outputs": [
    {
     "output_type": "stream",
     "name": "stdout",
     "text": "90-0046  1075\n LA100890-0049  713\n LA100890-0050  1169\n LA100890-0078  718\n LA100890-0114  10672\n LA100890-0123  1200\n LA100890-0125  2032\n LA100890-0134  663\n LA100890-0135  1341\n LA100989-0033  795\n LA100989-0035  1036\n LA100989-0095  3090\n LA100990-0038  3745\n LA100990-0064  869\n LA100990-0108  1053\n LA100990-0135  525\n LA100990-0141  3489\n LA100990-0176  2158\n LA101089-0025  557\n LA101089-0029  828\n LA101089-0072  929\n LA101089-0120  3831\n LA101089-0138  788\n LA101090-0014  686\n LA101090-0088  3608\n LA101090-0143  782\n LA101090-0147  7753\n LA101090-0157  767\n LA101189-0012  658\n LA101189-0024  1258\n LA101189-0030  1196\n LA101189-0045  856\n LA101189-0090  5448\n LA101189-0109  826\n LA101189-0149  974\n LA101190-0045  3311\n LA101190-0088  561\n LA101190-0113  1092\n LA101190-0197  743\n LA101190-0198  585\n LA101190-0206  2191\n LA101190-0223  674\n LA101190-0234  752\n LA101190-0252  1149\n LA101190-0253  920\n LA101190-0255  1780\n LA101289-0003  862\n LA101289-0079  693\n LA101289-0111  7268\n LA101289-0149  620\n LA101289-0158  548\n LA101289-0174  941\n LA101289-0177  2359\n LA101289-0221  2571\n LA101290-0039  2296\n LA101290-0083  2057\n LA101290-0101  1058\n LA101290-0127  798\n LA101389-0064  1047\n LA101389-0071  843\n LA101389-0110  3855\n LA101389-0123  1589\n LA101389-0171  3819\n LA101389-0173  1214\n LA101389-0190  778\n LA101390-0024  991\n LA101390-0073  1409\n LA101390-0090  768\n LA101390-0098  1530\n LA101390-0140  3064\n LA101390-0153  5456\n LA101489-0028  692\n LA101489-0059  3393\n LA101489-0073  721\n LA101489-0097  1386\n LA101489-0131  8255\n LA101489-0133  1067\n LA101490-0044  1362\n LA101490-0057  748\n LA101490-0066  4669\n LA101490-0074  742\n LA101490-0125  1887\n LA101490-0128  4947\n LA101490-0180  10211\n LA101589-0001  9266\n LA101589-0023  1042\n LA101589-0029  634\n LA101589-0035  1813\n LA101589-0119  4911\n LA101589-0135  1089\n LA101589-0220  17711\n LA101590-0020  898\n LA101590-0045  811\n LA101590-0116  841\n LA101689-0029  790\n LA101689-0048  599\n LA101689-0102  1896\n LA101690-0039  3988\n LA101690-0076  1110\n LA101690-0103  1249\n LA101690-0114  1242\n LA101690-0167  1066\n LA101789-0005  1169\n LA101789-0064  2041\n LA101789-0103  552\n LA101789-0106  949\n LA101789-0118  588\n LA101789-0157  959\n LA101790-0052  4058\n LA101889-0005  1251\n LA101889-0009  4285\n LA101889-0032  711\n LA101889-0073  1915\n LA101889-0087  1135\n LA101890-0067  876\n LA101890-0107  4847\n LA101890-0167  927\n LA101890-0189  1091\n LA101890-0190  708\n LA101890-0203  1424\n LA101890-0217  953\n LA101890-0270  829\n LA101989-0023  8450\n LA101989-0079  816\n LA101989-0172  775\n LA101989-0178  590\n LA101989-0186  1203\n LA101989-0232  874\n LA101990-0003  3278\n LA101990-0008  1218\n LA101990-0011  1368\n LA101990-0045  650\n LA101990-0085  742\n LA101990-0124  1128\n LA101990-0144  3592\n LA101990-0153  689\n LA101990-0181  1019\n LA102089-0004  1314\n LA102089-0064  683\n LA102089-0088  2118\n LA102090-0016  753\n LA102090-0053  2488\n LA102090-0055  1314\n LA102090-0150  1070\n LA102189-0029  1584\n LA102189-0045  763\n LA102189-0066  811\n LA102189-0067  2955\n LA102189-0116  3034\n LA102189-0120  655\n LA102189-0131  2213\n LA102189-0132  3857\n LA102189-0164  1146\n LA102190-0037  7237\n LA102190-0050  693\n LA102190-0164  1453\n LA102190-0183  3346\n LA102190-0196  1136\n LA102289-0068  5812\n LA102289-0137  1824\n LA102289-0175  1318\n LA102289-0228  1453\n LA102290-0027  778\n LA102290-0067  1266\n LA102290-0074  5643\n LA102290-0111  1091\n LA102290-0131  982\n LA102290-0136  758\n LA102389-0002  729\n LA102389-0012  1264\n LA102389-0021  600\n LA102389-0082  563\n LA102389-0087  1928\n LA102389-0105  1214\n LA102389-0112  992\n LA102390-0021  733\n LA102390-0040  759\n LA102390-0098  10439\n LA102390-0109  713\n LA102390-0110  732\n LA102390-0138  516\n LA102390-0140  4521\n LA102489-0007  1075\n LA102489-0059  656\n LA102489-0083  5067\n LA102489-0150  1412\n LA102489-0160  805\n LA102490-0028  1409\n LA102490-0029  779\n LA102490-0030  1116\n LA102490-0047  829\n LA102490-0080  908\n LA102589-0053  2226\n LA102589-0068  981\n LA102589-0110  4307\n LA102589-0124  778\n LA102590-0083  1766\n LA102590-0114  588\n LA102590-0126  5618\n LA102590-0194  8366\n LA102590-0197  2471\n LA102590-0202  3316\n LA102590-0225  10861\n LA102689-0076  7222\n LA102689-0084  1190\n LA102689-0136  707\n LA102689-0139  1596\n LA102689-0152  5496\n LA102689-0158  645\n LA102689-0222  1575\n LA102690-0016  1716\n LA102690-0055  520\n LA102789-0001  860\n LA102789-0084  3667\n LA102789-0104  582\n LA102789-0129  2104\n LA102789-0143  1849\n LA102789-0173  5464\n LA102789-0176  2235\n LA102790-0023  559\n LA102790-0060  573\n LA102790-0106  1508\n LA102790-0174  760\n LA102790-0181  2231\n LA102889-0002  580\n LA102889-0009  2231\n LA102889-0083  7358\n LA102889-0115  758\n LA102889-0135  7140\n LA102889-0153  3462\n LA102890-0017  518\n LA102890-0061  698\n LA102890-0148  531\n LA102890-0168  1756\n LA102989-0024  2399\n LA102989-0058  3968\n LA102989-0066  2033\n LA102989-0082  744\n LA102989-0105  916\n LA102989-0110  1575\n LA102989-0112  2087\n LA102989-0126  970\n LA102989-0128  1203\n LA102989-0144  3498\n LA102989-0152  922\n LA102989-0166  7451\n LA102989-0180  661\n LA102989-0217  5968\n LA102990-0044  1118\n LA102990-0051  820\n LA102990-0056  4746\n LA102990-0059  685\n LA102990-0108  836\n LA102990-0134  1650\n LA103089-0034  1216\n LA103089-0036  1527\n LA103089-0042  4634\n LA103089-0072  1566\n LA103090-0015  2827\n LA103090-0047  762\n LA103090-0089  3149\n LA103090-0185  728\n LA103090-0199  2615\n LA103189-0011  3781\n LA103189-0045  622\n LA103189-0059  985\n LA103189-0141  2406\n LA103189-0144  1034\n LA103190-0084  641\n LA103190-0134  1150\n LA103190-0163  925\n LA110189-0006  999\n LA110189-0045  676\n LA110189-0140  965\n LA110190-0044  755\n LA110190-0047  824\n LA110190-0081  2836\n LA110190-0107  520\n LA110190-0123  3990\n LA110190-0239  799\n LA110190-0257  702\n LA110289-0038  3908\n LA110289-0123  4285\n LA110289-0183  1503\n LA110289-0186  2392\n LA110289-0188  1239\n LA110289-0214  820\n LA110290-0049  1235\n LA110290-0100  3831\n LA110290-0103  1703\n LA110290-0105  4754\n LA110290-0126  5164\n LA110290-0137  715\n LA110290-0169  1441\n LA110290-0183  950\n LA110290-0199  2672\n LA110389-0010  2508\n LA110389-0062  6549\n LA110389-0072  2785\n LA110389-0124  6796\n LA110389-0147  1822\n LA110389-0157  4423\n LA110390-0040  1076\n LA110390-0043  1012\n LA110390-0050  917\n LA110390-0071  6279\n LA110390-0076  4094\n LA110390-0077  1627\n LA110390-0103  555\n LA110390-0146  3283\n LA110390-0159  3629\n LA110489-0010  1747\n LA110489-0062  954\n LA110489-0086  1128\n LA110489-0108  1321\n LA110489-0111  4580\n LA110489-0132  1844\n LA110489-0154  5397\n LA110489-0157  648\n LA110490-0035  1588\n LA110490-0061  3332\n LA110490-0080  532\n LA110490-0119  561\n LA110490-0124  717\n LA110490-0138  783\n LA110490-0143  1071\n LA110490-0148  1347\n LA110490-0157  535\n LA110589-0046  5919\n LA110589-0092  1877\n LA110589-0102  4054\n LA110589-0179  581\n LA110589-0195  559\n LA110589-0206  1883\n LA110589-0209  1860\n LA110590-0024  1251\n LA110590-0028  841\n LA110590-0049  1203\n LA110590-0078  611\n LA110590-0117  641\n LA110590-0126  965\n LA110590-0141  835\n LA110590-0142  2454\n LA110689-0006  1566\n LA110689-0036  4416\n LA110689-0058  1188\n LA110689-0060  10331\n LA110689-0073  823\n LA110690-0004  1026\n LA110690-0013  711\n LA110690-0048  852\n LA110690-0073  757\n LA110690-0087  1478\n LA110789-0022  3277\n LA110789-0048  711\n LA110790-0048  654\n LA110790-0066  711\n LA110790-0067  755\n LA110790-0097  634\n LA110790-0111  662\n LA110790-0157  3184\n LA110889-0046  4658\n LA110889-0064  874\n LA110889-0102  1298\n LA110889-0121  1867\n LA110889-0145  1121\n LA110889-0172  7671\n LA110890-0129  4882\n LA110890-0150  599\n LA110890-0182  2000\n LA110890-0274  5181\n LA110890-0275  9353\n LA110989-0028  2635\n LA110989-0061  11778\n LA110989-0163  662\n LA110989-0214  850\n LA110989-0236  1779\n LA110989-0237  15170\n LA110989-0242  8866\n LA110989-0243  12223\n LA110990-0105  5775\n LA110990-0124  815\n LA110990-0154  1406\n LA110990-0193  862\n LA110990-0194  14745\n LA110990-0195  5388\n LA111089-0033  641\n LA111089-0034  1067\n LA111089-0039  1359\n LA111089-0075  2618\n LA111089-0077  781\n LA111089-0159  1567\n LA111089-0182  4398\n LA111090-0012  1864\n LA111090-0019  1316\n LA111090-0020  2379\n LA111090-0068  529\n LA111090-0097  618\n LA111090-0126  1175\n LA111090-0143  2575\n LA111090-0149  1064\n LA111189-0056  717\n LA111189-0085  896\n LA111189-0136  1690\n LA111190-0112  2299\n LA111190-0161  5945\n LA111190-0163  657\n LA111190-0180  1217\n LA111190-0200  1879\n LA111289-0002  7081\n LA111289-0022  3671\n LA111289-0107  667\n LA111289-0167  1800\n LA111290-0003  860\n LA111290-0019  4101\n LA111290-0037  767\n LA111290-0079  2052\n LA111290-0121  1144\n LA111389-0059  637\n LA111389-0066  1179\n LA111389-0094  824\n LA111390-0023  717\n LA111390-0065  9313\n LA111390-0079  628\n LA111390-0083  1729\n LA111390-0102  5675\n LA111390-0103  3952\n LA111390-0131  2107\n LA111489-0065  3069\n LA111489-0075  4002\n LA111489-0112  760\n LA111489-0172  2892\n LA111490-0014  1286\n LA111490-0059  5268\n LA111490-0076  653\n LA111490-0103  1011\n LA111490-0105  633\n LA111490-0109  635\n LA111490-0133  5620\n LA111589-0016  617\n LA111589-0043  3569\n LA111589-0073  823\n LA111589-0074  708\n LA111589-0119  1590\n LA111589-0149  881\n LA111589-0163  1897\n LA111590-0021  1083\n LA111590-0091  799\n LA111590-0111  3410\n LA111590-0113  529\n LA111590-0140  629\n LA111590-0144  759\n LA111590-0149  1183\n LA111590-0204  759\n LA111590-0206  643\n LA111590-0223  937\n LA111590-0231  5045\n LA111590-0256  1106\n LA111689-0036  5846\n LA111689-0119  2295\n LA111689-0133  580\n LA111689-0144  6088\n LA111689-0161  2097\n LA111689-0182  806\n LA111689-0187  722\n LA111689-0200  681\n LA111689-0213  1363\n LA111689-0248  515\n LA111690-0004  894\n LA111690-0022  1969\n LA111690-0126  833\n LA111690-0166  1777\n LA111789-0042  3404\n LA111789-0064  978\n LA111789-0079  1832\n LA111789-0105  932\n LA111789-0130  5898\n LA111789-0155  2349\n LA111790-0003  743\n LA111790-0068  821\n LA111790-0070  801\n LA111790-0083  1024\n LA111790-0170  1736\n LA111790-0175  2195\n LA111889-0048  1143\n LA111889-0058  1267\n LA111889-0145  1243\n LA111890-0039  537\n LA111890-0043  644\n LA111890-0056  1309\n LA111890-0121  866\n LA111890-0142  11921\n LA111890-0211  5394\n LA111890-0221  2113\n LA111890-0233  5498\n LA111890-0249  5852\n LA111989-0086  5216\n LA111989-0087  835\n LA111989-0091  1658\n LA111989-0165  1384\n LA111989-0209  3648\n LA111990-0045  749\n LA111990-0046  1148\n LA111990-0112  723\n LA112089-0117  922\n LA112089-0122  809\n LA112090-0133  5350\n LA112090-0164  876\n LA112189-0011  2504\n LA112189-0042  1617\n LA112189-0043  1241\n LA112189-0056  961\n LA112189-0079  4167\n LA112189-0090  673\n LA112189-0092  2856\n LA112189-0096  1661\n LA112189-0145  3336\n LA112189-0151  845\n LA112189-0175  1414\n LA112190-0116  644\n LA112289-0021  1474\n LA112289-0048  803\n LA112289-0076  2726\n LA112289-0146  1556\n LA112289-0149  571\n LA112289-0152  1177\n LA112290-0017  1126\n LA112290-0086  605\n LA112290-0099  1093\n LA112290-0111  765\n LA112290-0220  2016\n LA112389-0007  782\n LA112389-0176  4528\n LA112389-0185  843\n LA112390-0018  1245\n LA112390-0021  4368\n LA112390-0062  1801\n LA112390-0079  1715\n LA112390-0084  2742\n LA112390-0100  756\n LA112489-0060  1052\n LA112489-0102  1414\n LA112490-0012  1278\n LA112490-0074  806\n LA112490-0109  1203\n LA112490-0141  1178\n LA112490-0142  1208\n LA112589-0036  2452\n LA112589-0040  2832\n LA112589-0047  1128\n LA112589-0088  901\n LA112589-0115  3255\n LA112590-0072  566\n LA112590-0117  1504\n LA112590-0119  2227\n LA112590-0126  1014\n LA112590-0204  543\n LA112590-0210  513\n LA112689-0012  2897\n LA112689-0034  1175\n LA112689-0044  1097\n LA112689-0046  3145\n LA112689-0047  2090\n LA112689-0164  769\n LA112689-0169  1598\n LA112689-0176  1394\n LA112690-0010  717\n LA112690-0027  1602\n LA112690-0069  631\n LA112690-0075  2616\n LA112690-0097  826\n LA112690-0098  1009\n LA112789-0004  5458\n LA112789-0028  3338\n LA112789-0033  1018\n LA112789-0082  730\n LA112789-0105  944\n LA112789-0119  2027\n LA112790-0050  662\n LA112790-0053  728\n LA112790-0064  858\n LA112790-0075  1201\n LA112889-0017  1956\n LA112889-0035  963\n LA112889-0039  864\n LA112889-0112  1198\n LA112889-0120  4232\n LA112889-0130  6415\n LA112889-0133  813\n LA112889-0140  1061\n LA112890-0035  11136\n LA112890-0066  2622\n LA112890-0124  2668\n LA112890-0145  1028\n LA112890-0148  1136\n LA112890-0154  1238\n LA112989-0051  2216\n LA112989-0084  608\n LA112990-0024  8424\n LA112990-0057  1268\n LA112990-0150  766\n LA112990-0215  724\n LA113089-0014  2642\n LA113089-0102  1636\n LA113089-0176  1055\n LA113089-0207  8209\n LA113090-0008  1054\n LA113090-0042  1283\n LA113090-0048  1228\n LA113090-0093  5835\n LA113090-0103  1038\n LA113090-0132  2052\n LA113090-0155  1062\n LA113090-0187  730\n LA120189-0028  3188\n LA120189-0064  846\n LA120189-0083  2393\n LA120189-0111  7189\n LA120189-0142  1728\n LA120189-0159  849\n LA120190-0027  1711\n LA120190-0049  1392\n LA120190-0087  4726\n LA120190-0088  4225\n LA120190-0091  1069\n LA120190-0123  607\n LA120190-0126  829\n LA120190-0138  1380\n LA120190-0158  1995\n LA120289-0057  706\n LA120289-0084  3195\n LA120289-0087  3647\n LA120289-0120  848\n LA120289-0124  700\n LA120289-0154  1063\n LA120290-0051  682\n LA120290-0060  737\n LA120290-0090  763\n LA120290-0104  712\n LA120290-0222  3599\n LA120389-0043  953\n LA120389-0044  595\n LA120389-0155  1031\n LA120389-0190  1080\n LA120389-0221  6358\n LA120389-0232  3097\n LA120390-0036  9442\n LA120390-0053  5187\n LA120390-0062  784\n LA120390-0131  1456\n LA120489-0074  584\n LA120489-0097  748\n LA120489-0109  727\n LA120489-0116  934\n LA120490-0025  1142\n LA120490-0028  1034\n LA120490-0051  653\n LA120490-0063  886\n LA120490-0071  753\n LA120490-0131  1390\n LA120490-0139  1934\n LA120589-0021  662\n LA120589-0041  987\n LA120589-0042  1038\n LA120589-0043  952\n LA120589-0055  896\n LA120589-0085  3021\n LA120589-0095  1954\n LA120589-0099  3126\n LA120590-0036  1056\n LA120590-0043  990\n LA120590-0091  855\n LA120590-0100  888\n LA120590-0107  589\n LA120590-0125  1499\n LA120590-0133  4341\n LA120590-0162  869\n LA120689-0019  2158\n LA120689-0044  730\n LA120689-0109  1470\n LA120689-0130  2862\n LA120689-0158  834\n LA120690-0041  530\n LA120690-0050  553\n LA120690-0104  1373\n LA120690-0115  731\n LA120690-0154  806\n LA120690-0155  2378\n LA120690-0197  826\n LA120690-0199  860\n LA120789-0039  717\n LA120789-0062  798\n LA120789-0098  1163\n LA120789-0101  751\n LA120789-0171  760\n LA120789-0186  1433\n LA120789-0191  1324\n LA120789-0195  4729\n LA120789-0197  1170\n LA120790-0031  1554\n LA120790-0134  1023\n LA120790-0155  622\n LA120790-0173  2962\n LA120889-0026  1331\n LA120889-0122  761\n LA120889-0157  5495\n LA120889-0165  5118\n LA120890-0037  666\n LA120890-0056  844\n LA120890-0108  7026\n LA120890-0120  621\n LA120989-0014  1218\n LA120989-0016  684\n LA120989-0053  857\n LA120989-0117  1394\n LA120990-0004  1318\n LA120990-0008  1538\n LA120990-0023  5998\n LA120990-0057  5397\n LA120990-0058  2974\n LA120990-0132  2502\n LA120990-0187  1422\n LA120990-0220  10806\n LA121089-0003  1180\n LA121089-0041  4317\n LA121089-0043  820\n LA121089-0102  789\n LA121089-0137  1212\n LA121089-0195  692\n LA121089-0206  4146\n LA121089-0237  5611\n LA121090-0029  1943\n LA121090-0030  1852\n LA121090-0088  2305\n LA121090-0112  4083\n LA121090-0116  1015\n LA121189-0042  1059\n LA121189-0044  1476\n LA121189-0055  949\n LA121189-0066  1177\n LA121189-0093  1787\n LA121189-0103  894\n LA121190-0062  3545\n LA121190-0069  862\n LA121190-0170  639\n LA121190-0176  1249\n LA121289-0025  1025\n LA121289-0054  5548\n LA121289-0056  8648\n LA121289-0059  757\n LA121289-0091  7006\n LA121289-0138  735\n LA121290-0033  1191\n LA121290-0160  690\n LA121389-0018  772\n LA121389-0022  779\n LA121389-0026  769\n LA121389-0110  848\n LA121389-0114  776\n LA121389-0121  3261\n LA121389-0175  2338\n LA121390-0039  4995\n LA121390-0040  751\n LA121390-0090  915\n LA121390-0095  5566\n LA121390-0105  3144\n LA121390-0142  835\n LA121390-0179  1668\n LA121390-0211  853\n LA121390-0237  2776\n LA121390-0246  1332\n LA121390-0253  1133\n LA121390-0255  994\n LA121489-0115  809\n LA121489-0148  978\n LA121489-0188  771\n LA121490-0026  5684\n LA121490-0049  970\n LA121490-0095  894\n LA121490-0112  1756\n LA121490-0113  791\n LA121490-0114  1015\n LA121490-0164  937\n LA121490-0178  592\n LA121589-0019  1985\n LA121589-0064  1300\n LA121589-0115  580\n LA121589-0123  653\n LA121589-0187  947\n LA121589-0192  2930\n LA121590-0031  641\n LA121689-0005  952\n LA121690-0021  883\n LA121690-0071  1386\n LA121690-0080  3474\n LA121690-0085  806\n LA121690-0221  1871\n LA121690-0224  5982\n LA121690-0229  5386\n LA121690-0230  5638\n LA121690-0232  4344\n LA121789-0012  755\n LA121789-0075  8716\n LA121789-0088  585\n LA121789-0114  3309\n LA121789-0216  5285\n LA121789-0235  4765\n LA121790-0009  1605\n LA121790-0027  517\n LA121790-0086  11855\n LA121790-0094  2814\n LA121790-0134  1140\n LA121889-0032  979\n LA121889-0039  1175\n LA121889-0065  1043\n LA121889-0116  1182\n LA121889-0121  707\n LA121890-0070  597\n LA121890-0089  803\n LA121890-0091  3184\n LA121890-0135  1603\n LA121890-0152  897\n LA121890-0153  666\n LA121890-0155  721\n LA121890-0161  751\n LA121890-0172  2895\n LA121989-0003  791\n LA121989-0074  772\n LA121989-0105  800\n LA121989-0134  1233\n LA121989-0135  780\n LA121989-0140  980\n LA121989-0142  972\n LA121989-0148  858\n LA121990-0007  1566\n LA121990-0008  899\n LA121990-0020  1013\n LA121990-0046  685\n LA121990-0058  890\n LA121990-0100  689\n LA121990-0108  3590\n LA121990-0114  5004\n LA121990-0126  3887\n LA122089-0004  713\n LA122089-0009  1286\n LA122089-0010  860\n LA122089-0054  680\n LA122089-0110  739\n LA122089-0137  4830\n LA122090-0039  2808\n LA122090-0046  698\n LA122090-0131  769\n LA122090-0182  1587\n LA122090-0187  8817\n LA122090-0265  1050\n LA122090-0268  1923\n LA122189-0058  1354\n LA122189-0084  970\n LA122189-0089  1183\n LA122189-0120  940\n LA122189-0137  1242\n LA122189-0150  2255\n LA122189-0162  884\n LA122189-0192  1502\n LA122189-0222  1508\n LA122190-0015  4889\n LA122190-0074  559\n LA122190-0078  5595\n LA122190-0081  6175\n LA122190-0146  1343\n LA122289-0031  8750\n LA122289-0060  2990\n LA122289-0124  4317\n LA122289-0137  2178\n LA122289-0138  1320\n LA122290-0005  2891\n LA122290-0021  843\n LA122290-0109  607\n LA122290-0115  2851\n LA122290-0116  925\n LA122389-0024  524\n LA122389-0083  923\n LA122389-0093  580\n LA122389-0108  1940\n LA122389-01352982\n LA122389-0142  1938\n LA122390-0003  4865\n LA122390-0034  596\n LA122390-0061  946\n LA122390-0141  5195\n LA122390-0170  630\n LA122390-0185  1101\n LA122390-0197  673\n LA122390-0199  640\n LA122489-0017  33171\n LA122489-0045  5007\n LA122489-0199  3494\n LA122489-0206  1534\n LA122490-0032  727\n LA122490-0051  975\n LA122490-0060  860\n LA122490-0076  689\n LA122490-0084  574\n LA122490-0085  736\n LA122490-0098  538\n LA122490-0099  5732\n LA122490-0109  2409\n LA122490-0123  964\n LA122589-0046  1299\n LA122589-0047  6456\n LA122589-0054  1027\n LA122589-0055  1032\n LA122589-0063  773\n LA122589-0083  1209\n LA122589-0088  1038\n LA122590-0002  873\n LA122590-0014  3997\n LA122590-0028  982\n LA122590-0036  866\n LA122590-0042  932\n LA122590-0074  1035\n LA122590-0076  1053\n LA122590-0079  567\n LA122689-0049  742\n LA122689-0078  1756\n LA122689-0091  546\n LA122689-0097  4215\n LA122690-0034  1847\n LA122690-0077  8065\n LA122690-0084  918\n LA122690-0085  3683\n LA122690-0093  656\n LA122690-0108  562\n LA122690-0114  3476\n LA122789-0003  1026\n LA122789-0074  589\n LA122789-0123  1152\n LA122789-0125  1556\n LA122790-0101  914\n LA122790-0111  1997\n LA122790-0196  4587\n LA122790-0227  888\n LA122889-0011  894\n LA122889-0019  1160\n LA122889-0046  1271\n LA122889-0164  8864\n LA122890-0069  777\n LA122890-0072  10602\n LA122890-0092  1802\n LA122890-0111  1474\n LA122890-0135  952\n LA122890-0168  1151\n LA122890-0174  854\n LA122989-0056  3107\n LA122989-0095  893\n LA122989-0136  807\n LA122990-0092  718\n LA123089-0018  577\n LA123089-0116  884\n LA123090-0031  909\n LA123090-0047  9622\n LA123090-0064  6660\n LA123090-0164  1395\n LA123090-0172  16240\n LA123090-0194  4840\n LA123189-0066  8884\n LA123189-0076  569\n LA123189-0111  5423\n LA123189-0133  2218\n LA123189-0145  1024\n LA123190-0005  530\n"
    }
   ],
   "source": [
    "for docid, detail in doc_dict.items():\n",
    "    text = detail.get(\"text\", \"\")\n",
    "    text = \"\".join(text).lower().translate(str.maketrans('', '', string.punctuation))\n",
    "    if len(text) > 512:\n",
    "        print(docid, len(text))"
   ]
  },
  {
   "cell_type": "code",
   "execution_count": 8,
   "metadata": {},
   "outputs": [
    {
     "output_type": "execute_result",
     "data": {
      "text/plain": "1"
     },
     "metadata": {},
     "execution_count": 8
    }
   ],
   "source": [
    "l = [1,2,3]\n",
    "l[0]"
   ]
  },
  {
   "cell_type": "code",
   "execution_count": 9,
   "metadata": {
    "tags": []
   },
   "outputs": [
    {
     "output_type": "stream",
     "name": "stderr",
     "text": "[nltk_data] Downloading package punkt to /home/rbl/nltk_data...\n[nltk_data]   Unzipping tokenizers/punkt.zip.\n"
    },
    {
     "output_type": "execute_result",
     "data": {
      "text/plain": "True"
     },
     "metadata": {},
     "execution_count": 9
    }
   ],
   "source": [
    "import nltk\n",
    "nltk.download('punkt')"
   ]
  },
  {
   "cell_type": "code",
   "execution_count": null,
   "metadata": {},
   "outputs": [],
   "source": []
  }
 ],
 "metadata": {
  "language_info": {
   "codemirror_mode": {
    "name": "ipython",
    "version": 3
   },
   "file_extension": ".py",
   "mimetype": "text/x-python",
   "name": "python",
   "nbconvert_exporter": "python",
   "pygments_lexer": "ipython3",
   "version": "3.7.7-final"
  },
  "orig_nbformat": 2,
  "kernelspec": {
   "name": "python3",
   "display_name": "Python 3"
  }
 },
 "nbformat": 4,
 "nbformat_minor": 2
}